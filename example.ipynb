{
  "cells": [
    {
      "cell_type": "code",
      "source": [
        "!pip install git+https://github.com/asigalov61/chord_recognizer.git\n",
        "!wget https://github.com/asigalov61/chord_recognizer/raw/master/test_data/17%20Moments%20of%20Spring.mid"
      ],
      "metadata": {
        "id": "BNSMw5jUdLPB"
      },
      "execution_count": null,
      "outputs": []
    },
    {
      "cell_type": "code",
      "execution_count": null,
      "outputs": [],
      "source": [
        "import os\n",
        "from chord_recognizer import recognize_chords\n",
        "\n",
        "midi_path = './17 Moments of Spring.mid'\n",
        "msf_path = os.path.splitext(midi_path)[0] + \".msf\"\n",
        "\n",
        "result = recognize_chords(midi_path, note_precision=0.125)\n",
        "result.to_csv(os.path.splitext(midi_path)[0] + \".csv\", index=False)\n",
        "result"
      ],
      "metadata": {
        "pycharm": {
          "name": "#%%\n",
          "is_executing": true
        },
        "id": "dkd4dXU7dCkC"
      }
    },
    {
      "cell_type": "code",
      "execution_count": null,
      "outputs": [],
      "source": [
        "%%timeit\n",
        "recognize_chords(midi_path, note_precision=0.125)"
      ],
      "metadata": {
        "pycharm": {
          "name": "#%%\n"
        },
        "id": "x05dR26tdCkC"
      }
    },
    {
      "cell_type": "code",
      "execution_count": null,
      "outputs": [],
      "source": [
        "from chord_recognizer.util import Sequence\n",
        "\n",
        "s = Sequence.from_midi(midi_path).to_msf(960)\n",
        "with open(msf_path, \"wb\") as f:\n",
        "    f.write(s.SerializeToString())"
      ],
      "metadata": {
        "pycharm": {
          "name": "#%%\n"
        },
        "id": "9frrLfdDdCkD"
      }
    },
    {
      "cell_type": "code",
      "execution_count": null,
      "outputs": [],
      "source": [
        "%%timeit\n",
        "recognize_chords(msf_path, note_precision=0.125)"
      ],
      "metadata": {
        "pycharm": {
          "name": "#%%\n"
        },
        "id": "zFPA63BNdCkD"
      }
    },
    {
      "cell_type": "code",
      "execution_count": null,
      "outputs": [],
      "source": [
        "recognize_chords(msf_path, note_precision=0.125)"
      ],
      "metadata": {
        "pycharm": {
          "name": "#%%\n"
        },
        "id": "7q1P2YyzdCkE"
      }
    },
    {
      "cell_type": "code",
      "execution_count": null,
      "outputs": [],
      "source": [
        "%%timeit\n",
        "Sequence.from_midi(midi_path)"
      ],
      "metadata": {
        "pycharm": {
          "name": "#%%\n"
        },
        "id": "2SdTlDUxdCkE"
      }
    },
    {
      "cell_type": "code",
      "execution_count": null,
      "outputs": [],
      "source": [
        "%%timeit\n",
        "Sequence.from_msf(msf_path)"
      ],
      "metadata": {
        "pycharm": {
          "name": "#%%\n"
        },
        "id": "7MidRSEtdCkE"
      }
    }
  ],
  "metadata": {
    "kernelspec": {
      "display_name": "Python 3",
      "language": "python",
      "name": "python3"
    },
    "language_info": {
      "codemirror_mode": {
        "name": "ipython",
        "version": 2
      },
      "file_extension": ".py",
      "mimetype": "text/x-python",
      "name": "python",
      "nbconvert_exporter": "python",
      "pygments_lexer": "ipython2",
      "version": "2.7.6"
    },
    "colab": {
      "provenance": []
    }
  },
  "nbformat": 4,
  "nbformat_minor": 0
}